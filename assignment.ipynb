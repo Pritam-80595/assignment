{
  "nbformat": 4,
  "nbformat_minor": 0,
  "metadata": {
    "colab": {
      "provenance": []
    },
    "kernelspec": {
      "name": "python3",
      "display_name": "Python 3"
    },
    "language_info": {
      "name": "python"
    }
  },
  "cells": [
    {
      "cell_type": "markdown",
      "source": [
        "1. the `Person` class has a constructor that takes `name` and `age` as arguments and assigns them to the object's attributes. The `introduce` method is then invoked on the object to introduce the person."
      ],
      "metadata": {
        "id": "l_DejIGOeaOV"
      }
    },
    {
      "cell_type": "code",
      "source": [
        "class person:\n",
        "    def __init__(self,name,age):\n",
        "        self.name=name\n",
        "        self.age=age\n",
        "    def personname(self):\n",
        "        print(f\"name is {self.name} and age is {self.age}\")"
      ],
      "metadata": {
        "id": "-Kt0rRS9eZk8"
      },
      "execution_count": 1,
      "outputs": []
    },
    {
      "cell_type": "code",
      "execution_count": 2,
      "metadata": {
        "id": "hRiGjSTBeXa8"
      },
      "outputs": [],
      "source": [
        "person1=person(\"pritam\",\"18\")"
      ]
    },
    {
      "cell_type": "code",
      "source": [
        "person1.personname()"
      ],
      "metadata": {
        "colab": {
          "base_uri": "https://localhost:8080/"
        },
        "id": "FYniGzkue3QC",
        "outputId": "a1c2d9de-1021-487f-ca47-623c2a9fba42"
      },
      "execution_count": 3,
      "outputs": [
        {
          "output_type": "stream",
          "name": "stdout",
          "text": [
            "name is pritam and age is 18\n"
          ]
        }
      ]
    },
    {
      "cell_type": "code",
      "source": [
        "person2=person(\"vipul\",\"17\")\n",
        "person2.personname()"
      ],
      "metadata": {
        "colab": {
          "base_uri": "https://localhost:8080/"
        },
        "id": "W0JklVeOfJSg",
        "outputId": "d1db6433-94ca-4eba-d43a-dfa4f942345a"
      },
      "execution_count": 4,
      "outputs": [
        {
          "output_type": "stream",
          "name": "stdout",
          "text": [
            "name is vipul and age is 17\n"
          ]
        }
      ]
    },
    {
      "cell_type": "markdown",
      "source": [
        "2. the `Car` class has a constructor that takes `brand` and `model` as arguments and assigns them to the object's attributes. The `display_info` method is then invoked on the object to display the car's brand and model."
      ],
      "metadata": {
        "id": "ZE2j4_GefdRR"
      }
    },
    {
      "cell_type": "code",
      "source": [
        "class car:\n",
        "    def __init__(self,brand,model):\n",
        "        self.brand=brand\n",
        "        self.model=model\n",
        "\n",
        "    def  stop(self):\n",
        "        print(f\"brand is {self.brand} and model is {self.model}\")"
      ],
      "metadata": {
        "id": "OZX16sF2fb2v"
      },
      "execution_count": 5,
      "outputs": []
    },
    {
      "cell_type": "code",
      "source": [
        "car1=car(\"tata\",\"2024\")\n",
        "car1.stop()"
      ],
      "metadata": {
        "colab": {
          "base_uri": "https://localhost:8080/"
        },
        "id": "078IomRZflDE",
        "outputId": "adf9716e-a0a5-4014-e372-da58b9679e8a"
      },
      "execution_count": 6,
      "outputs": [
        {
          "output_type": "stream",
          "name": "stdout",
          "text": [
            "brand is tata and model is 2024\n"
          ]
        }
      ]
    },
    {
      "cell_type": "markdown",
      "source": [
        "3. the `BankAccount` class has a constructor that takes `account_number` and `balance` as arguments and assigns them to the object's attributes. The `display_balance` method is then invoked on the object to display the account number and balance."
      ],
      "metadata": {
        "id": "wgP5CnvQfrMB"
      }
    },
    {
      "cell_type": "code",
      "source": [
        "class Bankaccount:\n",
        "    def __init__(self,account_number,blance,name):\n",
        "        self.account_number=account_number\n",
        "        self.name=name\n",
        "        self.blance=blance\n",
        "\n",
        "    def display_blance(self):\n",
        "        print(f\"tha account_number is{self.account_number} and blance  is {self.blance} and name is {self.name}\")"
      ],
      "metadata": {
        "id": "WZRpknbgfqP3"
      },
      "execution_count": 7,
      "outputs": []
    },
    {
      "cell_type": "code",
      "source": [
        "bankaccount1=Bankaccount(\"123455677\",1000,\"pritam\")\n",
        "bankaccount1.display_blance()"
      ],
      "metadata": {
        "colab": {
          "base_uri": "https://localhost:8080/"
        },
        "id": "wLldCs8Lf3jz",
        "outputId": "737ef776-be9a-464f-e922-083a302cd037"
      },
      "execution_count": 8,
      "outputs": [
        {
          "output_type": "stream",
          "name": "stdout",
          "text": [
            "tha account_number is123455677 and blance  is 1000 and name is pritam\n"
          ]
        }
      ]
    },
    {
      "cell_type": "markdown",
      "source": [
        "4.  the `MobilePhone` class has a constructor that takes `brand` and `model` as arguments and assigns them to the object's attributes. The `make_call` method is then invoked on the object to make a call with the phone."
      ],
      "metadata": {
        "id": "zfDD2WbJgA_p"
      }
    },
    {
      "cell_type": "code",
      "source": [
        "class Mobilephone:\n",
        "    def __init__(self,brand,model):\n",
        "        self.brand=brand\n",
        "        self.model=model\n",
        "    def make_call(self):\n",
        "        print(f\"brand is a {self.brand} and model is a {self.model}\")"
      ],
      "metadata": {
        "id": "m-a3TH9NgAKT"
      },
      "execution_count": 9,
      "outputs": []
    },
    {
      "cell_type": "code",
      "source": [
        "mobilephone1=Mobilephone(\"iqoo\",2024)\n",
        "mobilephone1.make_call()"
      ],
      "metadata": {
        "colab": {
          "base_uri": "https://localhost:8080/"
        },
        "id": "6RHAhizEgKM_",
        "outputId": "76eee923-0928-406e-bfa9-a289d8332a06"
      },
      "execution_count": 10,
      "outputs": [
        {
          "output_type": "stream",
          "name": "stdout",
          "text": [
            "brand is a iqoo and model is a 2024\n"
          ]
        }
      ]
    },
    {
      "cell_type": "markdown",
      "source": [
        "5. the `Book` class has a constructor that takes `title` and `author` as arguments and assigns them to the object's attributes. The `display_info` method is then invoked on the object to display the book's title and author."
      ],
      "metadata": {
        "id": "n6gUzU4kgQlU"
      }
    },
    {
      "cell_type": "code",
      "source": [
        "class Book:\n",
        "    def __init__(self,title,author):\n",
        "        self.title=title\n",
        "        self.author=author\n",
        "\n",
        "    def display_info(self):\n",
        "        print(f\"the title is a {self.title} and author is a {self.author}\")"
      ],
      "metadata": {
        "id": "4WXfJ-rPgP6o"
      },
      "execution_count": 11,
      "outputs": []
    },
    {
      "cell_type": "code",
      "source": [
        "book1=Book(\"the last lesson\",\"alphonse daudet\")\n",
        "book1.display_info()"
      ],
      "metadata": {
        "colab": {
          "base_uri": "https://localhost:8080/"
        },
        "id": "y4TNBw4GgbF_",
        "outputId": "7d1c7961-58fa-42b5-dbd3-350cdddbe99a"
      },
      "execution_count": 12,
      "outputs": [
        {
          "output_type": "stream",
          "name": "stdout",
          "text": [
            "the title is a the last lesson and author is a alphonse daudet\n"
          ]
        }
      ]
    },
    {
      "cell_type": "markdown",
      "source": [
        "6. Vehicles: Create a base class called Vehicle with attributes such as make, model, and year. Implement two subclasses Car and Motorcycle that inherit from Vehicle. Add additional methods to the subclasses, such as start_engine() and stop_engine(), and handle any specific behavior or rules for each vehicle type."
      ],
      "metadata": {
        "id": "jrnRSe8VgqM0"
      }
    },
    {
      "cell_type": "code",
      "source": [
        "class Vehicles:\n",
        "    def __init__(self,name,model,year):\n",
        "        self.name=name\n",
        "        self.model=model\n",
        "        self.year=year"
      ],
      "metadata": {
        "id": "ClaZPHAwgpgi"
      },
      "execution_count": 13,
      "outputs": []
    },
    {
      "cell_type": "code",
      "source": [
        "class car(Vehicles):\n",
        "            def __init__(self,name,model,year):\n",
        "                self.name=name\n",
        "                self.model=model\n",
        "                self.year=year\n",
        "            def stop_engine(self):\n",
        "                print(f\"the name is a {self.name} and model is a {self.model} and year is a {self.year}\")\n",
        "            def start_engine(self):\n",
        "                print(f\"the name is a {self.name} and model is a {self.model} and year is a {self.year}\")"
      ],
      "metadata": {
        "id": "pwQWKq1og4HP"
      },
      "execution_count": 14,
      "outputs": []
    },
    {
      "cell_type": "code",
      "source": [
        "class Motorcycle(Vehicles):\n",
        "                    def __init__(self,name,model,year):\n",
        "                        self.name=name\n",
        "                        self.model=model\n",
        "                        self.year=year\n",
        "                    def stop_engine(self):\n",
        "                        print(f\"the name is {self.name} and model is {self.model}  and year is {self.year}\")\n",
        "                    def start_engine(self):\n",
        "                         print(f\"the name is {self.name} and model is {self.model}  and year is {self.year}\")"
      ],
      "metadata": {
        "id": "rYefvfgNg6wG"
      },
      "execution_count": 15,
      "outputs": []
    },
    {
      "cell_type": "code",
      "source": [
        "car1=car(\"BMW\",\"BMW x3\",\"2024\")\n",
        "car1.stop_engine()\n",
        "car1.start_engine()"
      ],
      "metadata": {
        "colab": {
          "base_uri": "https://localhost:8080/"
        },
        "id": "V7wdc4QXg9gE",
        "outputId": "90472d29-5117-4d01-8a90-72fc97bbdfc7"
      },
      "execution_count": 16,
      "outputs": [
        {
          "output_type": "stream",
          "name": "stdout",
          "text": [
            "the name is a BMW and model is a BMW x3 and year is a 2024\n",
            "the name is a BMW and model is a BMW x3 and year is a 2024\n"
          ]
        }
      ]
    },
    {
      "cell_type": "markdown",
      "source": [
        "7. Animals: Create a base class called Animal with methods such as eat() and sleep(). Implement two subclasses Dog and Cat that inherit from Animal. Add additional methods to the subclasses, such as bark() for dogs and meow() for cats, and handle any specific behavior or rules for each animal type."
      ],
      "metadata": {
        "id": "8hG5Y1iYhDt8"
      }
    },
    {
      "cell_type": "code",
      "source": [
        "class Animals:\n",
        "    def __init__(self,eat,sleep):\n",
        "        self.eat=eat\n",
        "        self.sleep=sleep\n",
        "\n",
        "    def sound(self):\n",
        "        pass"
      ],
      "metadata": {
        "id": "I1eEiMGVhC5t"
      },
      "execution_count": 17,
      "outputs": []
    },
    {
      "cell_type": "code",
      "source": [
        "class dog(Animals):\n",
        "    def __init__(self,eat,sleep):\n",
        "        self.eat=eat\n",
        "        self.sleep=sleep\n",
        "    def bark(self):\n",
        "        print(f\" the eat is a {self.eat} and sleep is a {self.sleep}\")"
      ],
      "metadata": {
        "id": "EHwBNsn5hPnL"
      },
      "execution_count": 18,
      "outputs": []
    },
    {
      "cell_type": "code",
      "source": [
        "class cat(Animals):\n",
        "    def __init__(self,eat,sleep):\n",
        "        self.eat=eat\n",
        "        self.sleep=sleep\n",
        "\n",
        "    def meow(self):\n",
        "        print(f\"the eat is a {self.eat} and sleep is a {self.sleep}\")"
      ],
      "metadata": {
        "id": "7py0X3QbhSUP"
      },
      "execution_count": 19,
      "outputs": []
    },
    {
      "cell_type": "code",
      "source": [
        "dog1=dog(\"biscuit\",\"12 to 14 hours a day\")\n",
        "dog1.bark()"
      ],
      "metadata": {
        "colab": {
          "base_uri": "https://localhost:8080/"
        },
        "id": "W7OSFOEOhVEj",
        "outputId": "9386cca8-14ea-4ec9-ef9a-f42bc8513f4c"
      },
      "execution_count": 20,
      "outputs": [
        {
          "output_type": "stream",
          "name": "stdout",
          "text": [
            " the eat is a biscuit and sleep is a 12 to 14 hours a day\n"
          ]
        }
      ]
    },
    {
      "cell_type": "code",
      "source": [
        "cat2=cat(\"Pureed Carrots\",\"between 13 and 16 hours in a 24-hour day\")\n",
        "cat2.meow()"
      ],
      "metadata": {
        "colab": {
          "base_uri": "https://localhost:8080/"
        },
        "id": "CG7ikUB7hYJ6",
        "outputId": "ca5c505f-32b6-4f35-d2f1-f18a72e44e3d"
      },
      "execution_count": 21,
      "outputs": [
        {
          "output_type": "stream",
          "name": "stdout",
          "text": [
            "the eat is a Pureed Carrots and sleep is a between 13 and 16 hours in a 24-hour day\n"
          ]
        }
      ]
    },
    {
      "cell_type": "markdown",
      "source": [
        "8. Library Catalog: Create a base class called LibraryItem with attributes such as title, author, and publication_year. Implement two subclasses Book and Magazine that inherit from LibraryItem. Add additional methods to the subclasses, such as checkout() and return_item(), and handle any specific behavior or rules for each item type."
      ],
      "metadata": {
        "id": "VOeYflEuhnmT"
      }
    },
    {
      "cell_type": "code",
      "source": [
        "class Library:\n",
        "\n",
        "    def __init__(self,title, author, publication_year):\n",
        "\n",
        "        self.title=title\n",
        "        self.author=author\n",
        "        self.publication_year=publication_year\n",
        "    def work(self):\n",
        "\n",
        "        pass"
      ],
      "metadata": {
        "id": "IDhFcy9jha-C"
      },
      "execution_count": 22,
      "outputs": []
    },
    {
      "cell_type": "code",
      "source": [
        "class Book(Library):\n",
        "    def __init__(self,title,author,publication_year):\n",
        "        self.title=title\n",
        "        self.author=author\n",
        "        self.publication_year=publication_year\n",
        "    def checkout(self):\n",
        "         print(f\"{self.title} {self.author} {self.publication_year}\")\n",
        "    def return_item(self):\n",
        "        print(f\"{self.title} {self.author} {self.publication_year}\")"
      ],
      "metadata": {
        "id": "qftE8XwViEca"
      },
      "execution_count": 23,
      "outputs": []
    },
    {
      "cell_type": "code",
      "source": [
        "class Magazine(Library):\n",
        "    def __init__(self,title,author,publication_year):\n",
        "        self.title=title\n",
        "        self.author=author\n",
        "        self.publication_year=publication_year\n",
        "    def return_item(self):\n",
        "        print(f\"{self.title} {self.author} {self.publication_year}\")\n",
        "    def checkout(self):\n",
        "         print(f\"{self.title} {self.author} {self.publication_year}\")"
      ],
      "metadata": {
        "id": "gonG4L4ViG7s"
      },
      "execution_count": 24,
      "outputs": []
    },
    {
      "cell_type": "code",
      "source": [
        "book1=Book(\"the last lesson\",\"alphonse daudet\",\"1870\")\n",
        "book1.checkout()\n",
        "book1=Book(\"the last lesson\",\"alphonse daudet\",\"1870\")\n",
        "book1.return_item()"
      ],
      "metadata": {
        "colab": {
          "base_uri": "https://localhost:8080/"
        },
        "id": "3jw1AerAiLbi",
        "outputId": "c55df0e7-8efb-4801-a752-56f1b3cd18e4"
      },
      "execution_count": 25,
      "outputs": [
        {
          "output_type": "stream",
          "name": "stdout",
          "text": [
            "the last lesson alphonse daudet 1870\n",
            "the last lesson alphonse daudet 1870\n"
          ]
        }
      ]
    },
    {
      "cell_type": "code",
      "source": [
        "magazine1=Magazine(\"the lost spring\",\"Anees Jung\",\"2005\")\n",
        "magazine1.return_item()\n",
        "magazine1=Magazine(\"the lost spring\",\"Anees Jung\",\"2005\")\n",
        "magazine1.checkout()"
      ],
      "metadata": {
        "colab": {
          "base_uri": "https://localhost:8080/"
        },
        "id": "nXKerPwyiOX5",
        "outputId": "41dd5987-dc89-483b-96dc-8d9d97987068"
      },
      "execution_count": 26,
      "outputs": [
        {
          "output_type": "stream",
          "name": "stdout",
          "text": [
            "the lost spring Anees Jung 2005\n",
            "the lost spring Anees Jung 2005\n"
          ]
        }
      ]
    },
    {
      "cell_type": "markdown",
      "source": [
        "9. Employees and Departments: Create a base class called Employee with attributes such as name, salary, and department. Implement two subclasses Manager and Staff that inherit from Employee. Add additional methods to the subclasses, such as assign_task() for managers and attend_meeting() for staff members. Create a separate class called Department that contains a list of employees and methods to add or remove employees from the department."
      ],
      "metadata": {
        "id": "YmlpuHY5iSzQ"
      }
    },
    {
      "cell_type": "code",
      "source": [
        "class Employee:\n",
        "    def __init__(self,name,salary, department):\n",
        "        self.name=name\n",
        "        self.salary=salary\n",
        "        self.department=department"
      ],
      "metadata": {
        "id": "OhI7IhHRiSAl"
      },
      "execution_count": 27,
      "outputs": []
    },
    {
      "cell_type": "code",
      "source": [
        "class Manager(Employee):\n",
        "    def __init__(self,name,salary,department):\n",
        "        self.name=name\n",
        "        self.salary=salary\n",
        "        self.department=department\n",
        "\n",
        "    def assign_task(self):\n",
        "        print(f\"the name is a {self.name} and salary is a {self.salary} and department is a {self.department}\")"
      ],
      "metadata": {
        "id": "F4jT-NwiicLr"
      },
      "execution_count": 28,
      "outputs": []
    },
    {
      "cell_type": "code",
      "source": [
        "class Staff(Employee):\n",
        "    def __init__(self,name,salary,department):\n",
        "        self.name=name\n",
        "        self.salary=salary\n",
        "        self.department=department\n",
        "    def attend_meeting(self):\n",
        "        print(f\"{self.name} and {self.salary} and {self.department}\")"
      ],
      "metadata": {
        "id": "rRgZ23n4ihli"
      },
      "execution_count": 29,
      "outputs": []
    },
    {
      "cell_type": "code",
      "source": [
        "manager1=Manager(\"pritam\",\"10000\",\"sales\")\n",
        "manager1.assign_task()"
      ],
      "metadata": {
        "colab": {
          "base_uri": "https://localhost:8080/"
        },
        "id": "npip3wOuikLS",
        "outputId": "31b33e44-e989-4a65-a095-ff7d569311fe"
      },
      "execution_count": 30,
      "outputs": [
        {
          "output_type": "stream",
          "name": "stdout",
          "text": [
            "the name is a pritam and salary is a 10000 and department is a sales\n"
          ]
        }
      ]
    },
    {
      "cell_type": "code",
      "source": [
        "staff1=Staff(\"vipul\",\"5000\",\"buisness\")\n",
        "staff1.attend_meeting()"
      ],
      "metadata": {
        "colab": {
          "base_uri": "https://localhost:8080/"
        },
        "id": "1j1-uVR7imtp",
        "outputId": "fe61da0c-e8c7-4741-e55c-1fc2f72a7bab"
      },
      "execution_count": 31,
      "outputs": [
        {
          "output_type": "stream",
          "name": "stdout",
          "text": [
            "vipul and 5000 and buisness\n"
          ]
        }
      ]
    },
    {
      "cell_type": "markdown",
      "source": [
        "10. Bank Transactions: Create a base class called BankAccount with attributes such as account_number and balance. Implement subclasses for different types of accounts such as CheckingAccount and SavingsAccount that inherit from BankAccount. Add additional methods to the subclasses, such as withdraw() and deposit(), and handle any specific behavior or rules for each account type."
      ],
      "metadata": {
        "id": "SMKTEePviqdF"
      }
    },
    {
      "cell_type": "code",
      "source": [
        "class BankAccount:\n",
        "    def __init__(self,account_number,balance):\n",
        "        self.account_number=account_number\n",
        "        self.balance=balance"
      ],
      "metadata": {
        "id": "2mRGBnwXippS"
      },
      "execution_count": 32,
      "outputs": []
    },
    {
      "cell_type": "code",
      "source": [
        "class CheckingAccount(BankAccount):\n",
        "    def __init__(self,account_number,balance):\n",
        "        self.account_number=account_number\n",
        "        self.balance=balance\n",
        "    def withdraw(self):\n",
        "        print(f\"{self.account_number} {self.balance}\")"
      ],
      "metadata": {
        "id": "RBOmyIZ9i0kx"
      },
      "execution_count": 33,
      "outputs": []
    },
    {
      "cell_type": "code",
      "source": [
        "class SavingsAccount(BankAccount):\n",
        "    def __init__(self,account_number,balance):\n",
        "        self.account_number=account_number\n",
        "        self.balance=balance\n",
        "    def deposit(self):\n",
        "        print(f\"{self.account_number} {self.balance}\")"
      ],
      "metadata": {
        "id": "87nQXDGwi3MX"
      },
      "execution_count": 34,
      "outputs": []
    },
    {
      "cell_type": "code",
      "source": [
        "checkingaccount1=CheckingAccount(\"123456789\",\"100000\")\n",
        "checkingaccount1.withdraw()"
      ],
      "metadata": {
        "colab": {
          "base_uri": "https://localhost:8080/"
        },
        "id": "MPasYTsFi5zh",
        "outputId": "8d39e74e-efc0-4cf7-b822-1ba13f8a05d1"
      },
      "execution_count": 35,
      "outputs": [
        {
          "output_type": "stream",
          "name": "stdout",
          "text": [
            "123456789 100000\n"
          ]
        }
      ]
    },
    {
      "cell_type": "code",
      "source": [
        "savingsaccount=SavingsAccount(\"987645321\",\"1000000\")\n",
        "savingsaccount.deposit()"
      ],
      "metadata": {
        "colab": {
          "base_uri": "https://localhost:8080/"
        },
        "id": "OFIzeyBpi8UO",
        "outputId": "ccad01b1-e787-40f4-f6be-f1171837ce8b"
      },
      "execution_count": 36,
      "outputs": [
        {
          "output_type": "stream",
          "name": "stdout",
          "text": [
            "987645321 1000000\n"
          ]
        }
      ]
    },
    {
      "cell_type": "markdown",
      "source": [
        "11. School Management System: Create a base class called Person with attributes such as name, age, and address. Implement subclasses for different roles such as Student, Teacher, and Staff that inherit from Person. Add additional methods to the subclasses, such as take_exam() for students and teach_subject() for teachers."
      ],
      "metadata": {
        "id": "intA7FvdjAMW"
      }
    },
    {
      "cell_type": "code",
      "source": [
        "class Person:\n",
        "    def __init__(self,name,age,address):\n",
        "        self.name=name\n",
        "        self.age=age\n",
        "        self.addres=address"
      ],
      "metadata": {
        "id": "LW42ui_Vi_UG"
      },
      "execution_count": 37,
      "outputs": []
    },
    {
      "cell_type": "code",
      "source": [
        "class student(Person):\n",
        "    def __init__(self,name,age,address):\n",
        "        self.name=name\n",
        "        self.age=age\n",
        "        self.address=address\n",
        "    def take_exam(self):\n",
        "        print(f\"the student name is {self.name} and age is {self.age} and address is {self.address}\")\n",
        "    def teach_subject(self):\n",
        "        print(f\"the student nam is {self.name} and age is  {self.age} and adress is {self.address}\")"
      ],
      "metadata": {
        "id": "vPvBTffVjI0K"
      },
      "execution_count": 42,
      "outputs": []
    },
    {
      "cell_type": "code",
      "source": [
        "class teacher(Person):\n",
        "    def __init__(self,name,age,address):\n",
        "        self.name=name\n",
        "        self.age=age\n",
        "        self.address=address\n",
        "    def take_exam(self):\n",
        "        print(f\"The teacher name is {self.name} and age is {self.age} and addrss is {self.address}\")\n",
        "    def teach_subject(self):\n",
        "        print(f\"The teacher name is {self.name} and age is  {self.age} and address is  {self.address}\")"
      ],
      "metadata": {
        "id": "oumGc7FwjLeQ"
      },
      "execution_count": 43,
      "outputs": []
    },
    {
      "cell_type": "code",
      "source": [
        "class staff(Person):\n",
        "    def __init__(self,name,age,address):\n",
        "        self.name=name\n",
        "        self.age=age\n",
        "        self.address=address\n",
        "    def take_exam(self):\n",
        "        print(f\"the staff name is {self.name} and age is {self.age} and address is {self.address}\")\n",
        "    def teach_subject(self):\n",
        "        print(f\"the staff name is {self.name} and age is {self.age} and address is  {self.addres}\")"
      ],
      "metadata": {
        "id": "jEcJqrA5jPJC"
      },
      "execution_count": 44,
      "outputs": []
    },
    {
      "cell_type": "code",
      "source": [
        "student1=student(\"pritam\",\"18\",\"jarthal\")\n",
        "student1.take_exam()\n",
        "student1.teach_subject()"
      ],
      "metadata": {
        "colab": {
          "base_uri": "https://localhost:8080/"
        },
        "id": "8pX3ZzgEjSy2",
        "outputId": "90d7fbc4-c867-4b76-aee9-dcc8a2424cac"
      },
      "execution_count": 46,
      "outputs": [
        {
          "output_type": "stream",
          "name": "stdout",
          "text": [
            "the student name is pritam and age is 18 and address is jarthal\n",
            "the student nam is pritam and age is  18 and adress is jarthal\n"
          ]
        }
      ]
    },
    {
      "cell_type": "code",
      "source": [
        "teacher2=teacher(\"mahipal singh\",\"24\",\"alwar\")\n",
        "teacher2.take_exam()\n",
        "teacher2.teach_subject()"
      ],
      "metadata": {
        "colab": {
          "base_uri": "https://localhost:8080/"
        },
        "id": "woRXFRtzjWD-",
        "outputId": "f20728ad-d7a5-487d-da68-4bcbacfc3908"
      },
      "execution_count": 47,
      "outputs": [
        {
          "output_type": "stream",
          "name": "stdout",
          "text": [
            "The teacher name is mahipal singh and age is 24 and addrss is alwar\n",
            "The teacher name is mahipal singh and age is  24 and address is  alwar\n"
          ]
        }
      ]
    },
    {
      "cell_type": "code",
      "source": [
        "staff1=staff(\"\")\n",
        "staff1.take_exam()\n",
        "staff1.teach_subject()"
      ],
      "metadata": {
        "id": "gAzRlLtgnyOJ"
      },
      "execution_count": null,
      "outputs": []
    }
  ]
}